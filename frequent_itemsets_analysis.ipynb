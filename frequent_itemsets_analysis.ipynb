{
 "cells": [
  {
   "cell_type": "code",
   "execution_count": 1,
   "id": "2ceb28a2-0029-4cc1-97cc-4ea7fdd16957",
   "metadata": {},
   "outputs": [
    {
     "name": "stdout",
     "output_type": "stream",
     "text": [
      "✅ supermarket_transactions.csv created with 3000 transactions.\n"
     ]
    }
   ],
   "source": [
    "# 📘 Frequent Itemsets Analysis - Group 10\n",
    "# Kevin Korir - Data Simulation Task\n",
    "\n",
    "# %% [markdown]\n",
    "# ## 🛍️ PART 1: Simulate Supermarket Transactions\n",
    "# [Student: Kevin] This section generates 3000 fake supermarket transactions.\n",
    "# Each transaction contains 2–7 items randomly selected from a pool of 30 items.\n",
    "# The output is saved to `supermarket_transactions.csv`.\n",
    "\n",
    "# %%\n",
    "# [Student: Kevin] Import required libraries\n",
    "import random\n",
    "import pandas as pd\n",
    "\n",
    "# [Student: Kevin] Define a list of 30+ unique supermarket items\n",
    "items = [\n",
    "    'Milk', 'Bread', 'Butter', 'Cheese', 'Eggs', 'Juice', 'Apples', 'Bananas',\n",
    "    'Chicken', 'Beef', 'Fish', 'Rice', 'Pasta', 'Tomatoes', 'Onions', 'Potatoes',\n",
    "    'Carrots', 'Peppers', 'Yogurt', 'Cereal', 'Chips', 'Soda', 'Cookies', 'Ice Cream',\n",
    "    'Toilet Paper', 'Soap', 'Shampoo', 'Toothpaste', 'Detergent', 'Coffee', 'Tea', 'Water'\n",
    "]\n",
    "\n",
    "# [Student: Kevin] Generate 3000 transactions\n",
    "transactions = []\n",
    "for _ in range(3000):\n",
    "    transaction = random.sample(items, k=random.randint(2, 7))  # 2 to 7 random items\n",
    "    transactions.append(transaction)\n",
    "\n",
    "# [Student: Kevin] Convert list of transactions into a DataFrame for inspection\n",
    "transaction_df = pd.DataFrame({'Transaction': transactions})\n",
    "transaction_df.head()\n",
    "\n",
    "# [Student: Kevin] Save transactions to CSV (as comma-separated items per row)\n",
    "transaction_df.to_csv(\"supermarket_transactions.csv\", index=False)\n",
    "print(\"✅ supermarket_transactions.csv created with 3000 transactions.\")\n",
    "\n",
    "# %% [markdown]\n",
    "# ## 🔢 PART 2 and Beyond (To be implemented by other group members)\n",
    "# [Student: Margret] One-hot encode transactions for Apriori\n",
    "# [Student: Geoffrey] Generate frequent itemsets using apriori()\n",
    "# [Student: Bricole] Identify closed frequent itemsets\n",
    "# [Student: Bricole] Identify maximal frequent itemsets\n",
    "# Each member must add inline comments to their section of code\n",
    "# All output files will be saved in .csv format as required\n"
   ]
  },
  {
   "cell_type": "markdown",
   "id": "e354f974",
   "metadata": {},
   "source": [
    "## PART 2 and Beyond (To be implemented by other group members)\n",
    "[Student: Margaret] One-hot encode transactions for Apriori\n"
   ]
  },
  {
   "cell_type": "code",
   "execution_count": 8,
   "id": "20758b10",
   "metadata": {},
   "outputs": [
    {
     "name": "stdout",
     "output_type": "stream",
     "text": [
      "✅ onehot_transactions.csv created for Apriori analysis.\n"
     ]
    }
   ],
   "source": [
    "# PART 2: One-Hot Encoding for Apriori\n",
    "# [Student: Margaret] This section converts the transaction data into one-hot encoded format.\n",
    "# The output is saved as `onehot_transactions.csv` for use in Apriori analysis.\n",
    "\n",
    "# %%\n",
    "# [Student: Margaret] Import required libraries\n",
    "import pandas as pd\n",
    "from mlxtend.frequent_patterns import apriori, association_rules # Import apriori for frequent itemset mining\n",
    "from mlxtend.preprocessing import TransactionEncoder\n",
    "import ast\n",
    "\n",
    "# %%\n",
    "# [Student: Margaret] Load the transaction data\n",
    "df = pd.read_csv(\"supermarket_transactions.csv\")\n",
    "\n",
    "# Convert string representation of lists to actual lists\n",
    "transactions = df['Transaction'].apply(ast.literal_eval).tolist()\n",
    "\n",
    "# %%\n",
    "# [Student: Margaret] Apply one-hot encoding\n",
    "te = TransactionEncoder()\n",
    "te_ary = te.fit(transactions).transform(transactions)\n",
    "\n",
    "# Convert to DataFrame\n",
    "onehot_df = pd.DataFrame(te_ary, columns=te.columns_)\n",
    "\n",
    "# Preview\n",
    "onehot_df.head()\n",
    "\n",
    "# %%\n",
    "# [Student: Margaret] Save the one-hot encoded data\n",
    "onehot_df.to_csv(\"onehot_transactions.csv\", index=False)\n",
    "print(\"✅ onehot_transactions.csv created for Apriori analysis.\")\n"
   ]
  },
  {
   "cell_type": "markdown",
   "id": "43a84e60",
   "metadata": {},
   "source": [
    "### Frequent itemsets\n",
    "Student: Geoffrey"
   ]
  },
  {
   "cell_type": "code",
   "execution_count": 13,
   "id": "a3a12231",
   "metadata": {},
   "outputs": [
    {
     "name": "stdout",
     "output_type": "stream",
     "text": [
      "     support      itemsets\n",
      "10  0.158667      (Coffee)\n",
      "5   0.152667     (Carrots)\n",
      "6   0.148000      (Cereal)\n",
      "20  0.146333     (Peppers)\n",
      "29  0.144667  (Toothpaste)\n",
      "17  0.144000        (Milk)\n",
      "12  0.143667   (Detergent)\n",
      "22  0.142667        (Rice)\n",
      "16  0.142667       (Juice)\n",
      "28  0.142333    (Tomatoes)\n",
      "✅ frequent_itemsets.csv created with frequent itemsets.\n"
     ]
    }
   ],
   "source": [
    "# [Student: Geoffrey] This section generates frequent itemsets using the Apriori algorithm.\n",
    "\n",
    "# Mine for frequent itemsets with a minimum support threshold\n",
    "#  - min_support=0.05 means “itemsets appearing in at least 5% of transactions”\n",
    "#  - use_colnames=True returns item names instead of column indices\n",
    "#  - use ascending=False to sort by support in descending order\n",
    "\n",
    "frequent_itemsets = apriori(onehot_df, min_support=0.05, use_colnames=True)\n",
    "# [Student: Geoffrey] Display the top 10 frequent itemsets sorted by support\n",
    "print(f\"{frequent_itemsets.sort_values('support', ascending=False).head(10)}\")\n",
    "# [Student: Geoffrey] Save the frequent itemsets to a CSV file\n",
    "frequent_itemsets.to_csv(\"frequent_itemsets.csv\", index=False)\n",
    "print(\"✅ frequent_itemsets.csv created with frequent itemsets.\")"
   ]
  }
 ],
 "metadata": {
  "kernelspec": {
   "display_name": "Python 3",
   "language": "python",
   "name": "python3"
  },
  "language_info": {
   "codemirror_mode": {
    "name": "ipython",
    "version": 3
   },
   "file_extension": ".py",
   "mimetype": "text/x-python",
   "name": "python",
   "nbconvert_exporter": "python",
   "pygments_lexer": "ipython3",
   "version": "3.10.11"
  }
 },
 "nbformat": 4,
 "nbformat_minor": 5
}

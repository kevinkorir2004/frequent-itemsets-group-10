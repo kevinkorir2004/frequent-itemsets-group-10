{
 "cells": [
  {
   "cell_type": "code",
   "execution_count": 4,
   "id": "2ceb28a2-0029-4cc1-97cc-4ea7fdd16957",
   "metadata": {},
   "outputs": [
    {
     "name": "stdout",
     "output_type": "stream",
     "text": [
      "✅ supermarket_transactions.csv created with 3000 transactions.\n"
     ]
    }
   ],
   "source": [
    "# 📘 Frequent Itemsets Analysis - Group 10\n",
    "# Kevin Korir - Data Simulation Task\n",
    "\n",
    "# %% [markdown]\n",
    "# ## 🛍️ PART 1: Simulate Supermarket Transactions\n",
    "# [Student: Kevin] This section generates 3000 fake supermarket transactions.\n",
    "# Each transaction contains 2–7 items randomly selected from a pool of 30 items.\n",
    "# The output is saved to `supermarket_transactions.csv`.\n",
    "\n",
    "# %%\n",
    "# [Student: Kevin] Import required libraries\n",
    "import random\n",
    "import pandas as pd\n",
    "\n",
    "# [Student: Kevin] Define a list of 30+ unique supermarket items\n",
    "items = [\n",
    "    'Milk', 'Bread', 'Butter', 'Cheese', 'Eggs', 'Juice', 'Apples', 'Bananas',\n",
    "    'Chicken', 'Beef', 'Fish', 'Rice', 'Pasta', 'Tomatoes', 'Onions', 'Potatoes',\n",
    "    'Carrots', 'Peppers', 'Yogurt', 'Cereal', 'Chips', 'Soda', 'Cookies', 'Ice Cream',\n",
    "    'Toilet Paper', 'Soap', 'Shampoo', 'Toothpaste', 'Detergent', 'Coffee', 'Tea', 'Water'\n",
    "]\n",
    "\n",
    "# [Student: Kevin] Generate 3000 transactions\n",
    "transactions = []\n",
    "for _ in range(3000):\n",
    "    transaction = random.sample(items, k=random.randint(2, 7))  # 2 to 7 random items\n",
    "    transactions.append(transaction)\n",
    "\n",
    "# [Student: Kevin] Convert list of transactions into a DataFrame for inspection\n",
    "transaction_df = pd.DataFrame({'Transaction': transactions})\n",
    "transaction_df.head()\n",
    "\n",
    "# [Student: Kevin] Save transactions to CSV (as comma-separated items per row)\n",
    "transaction_df.to_csv(\"supermarket_transactions.csv\", index=False)\n",
    "print(\"✅ supermarket_transactions.csv created with 3000 transactions.\")\n",
    "\n",
    "# %% [markdown]\n",
    "# ## 🔢 PART 2 and Beyond (To be implemented by other group members)\n",
    "# [Student: Margret] One-hot encode transactions for Apriori\n",
    "# [Student: Geoffrey] Generate frequent itemsets using apriori()\n",
    "# [Student: Bricole] Identify closed frequent itemsets\n",
    "# [Student: Bricole] Identify maximal frequent itemsets\n",
    "# Each member must add inline comments to their section of code\n",
    "# All output files will be saved in .csv format as required\n"
   ]
  },
  {
   "cell_type": "markdown",
   "id": "8c9a126b",
   "metadata": {},
   "source": [
    "# 2 Generate frequent itemsets using apriori()"
   ]
  },
  {
   "cell_type": "markdown",
   "id": "e8002500",
   "metadata": {},
   "source": [
    "## 2.1 Install & Import Libraries"
   ]
  },
  {
   "cell_type": "code",
   "execution_count": null,
   "id": "80c1a846-0c2e-4bb4-839f-7a71f3ee8a1f",
   "metadata": {},
   "outputs": [
    {
     "name": "stdout",
     "output_type": "stream",
     "text": [
      "Requirement already satisfied: pandas in c:\\users\\hp\\appdata\\local\\programs\\python\\python310\\lib\\site-packages (2.3.1)\n",
      "Requirement already satisfied: mlxtend in c:\\users\\hp\\appdata\\local\\programs\\python\\python310\\lib\\site-packages (0.23.4)\n",
      "Requirement already satisfied: numpy>=1.22.4 in c:\\users\\hp\\appdata\\local\\programs\\python\\python310\\lib\\site-packages (from pandas) (2.2.6)\n",
      "Requirement already satisfied: tzdata>=2022.7 in c:\\users\\hp\\appdata\\local\\programs\\python\\python310\\lib\\site-packages (from pandas) (2025.2)\n",
      "Requirement already satisfied: python-dateutil>=2.8.2 in c:\\users\\hp\\appdata\\roaming\\python\\python310\\site-packages (from pandas) (2.9.0.post0)\n",
      "Requirement already satisfied: pytz>=2020.1 in c:\\users\\hp\\appdata\\local\\programs\\python\\python310\\lib\\site-packages (from pandas) (2025.2)\n",
      "Requirement already satisfied: matplotlib>=3.0.0 in c:\\users\\hp\\appdata\\local\\programs\\python\\python310\\lib\\site-packages (from mlxtend) (3.10.3)\n",
      "Requirement already satisfied: scipy>=1.2.1 in c:\\users\\hp\\appdata\\local\\programs\\python\\python310\\lib\\site-packages (from mlxtend) (1.15.3)\n",
      "Requirement already satisfied: scikit-learn>=1.3.1 in c:\\users\\hp\\appdata\\local\\programs\\python\\python310\\lib\\site-packages (from mlxtend) (1.7.0)\n",
      "Requirement already satisfied: joblib>=0.13.2 in c:\\users\\hp\\appdata\\local\\programs\\python\\python310\\lib\\site-packages (from mlxtend) (1.5.1)\n",
      "Requirement already satisfied: fonttools>=4.22.0 in c:\\users\\hp\\appdata\\local\\programs\\python\\python310\\lib\\site-packages (from matplotlib>=3.0.0->mlxtend) (4.58.5)\n",
      "Requirement already satisfied: pyparsing>=2.3.1 in c:\\users\\hp\\appdata\\local\\programs\\python\\python310\\lib\\site-packages (from matplotlib>=3.0.0->mlxtend) (3.2.3)\n",
      "Requirement already satisfied: cycler>=0.10 in c:\\users\\hp\\appdata\\local\\programs\\python\\python310\\lib\\site-packages (from matplotlib>=3.0.0->mlxtend) (0.12.1)\n",
      "Requirement already satisfied: packaging>=20.0 in c:\\users\\hp\\appdata\\roaming\\python\\python310\\site-packages (from matplotlib>=3.0.0->mlxtend) (25.0)\n",
      "Requirement already satisfied: pillow>=8 in c:\\users\\hp\\appdata\\local\\programs\\python\\python310\\lib\\site-packages (from matplotlib>=3.0.0->mlxtend) (11.3.0)\n",
      "Requirement already satisfied: kiwisolver>=1.3.1 in c:\\users\\hp\\appdata\\local\\programs\\python\\python310\\lib\\site-packages (from matplotlib>=3.0.0->mlxtend) (1.4.8)\n",
      "Requirement already satisfied: contourpy>=1.0.1 in c:\\users\\hp\\appdata\\local\\programs\\python\\python310\\lib\\site-packages (from matplotlib>=3.0.0->mlxtend) (1.3.2)\n",
      "Requirement already satisfied: six>=1.5 in c:\\users\\hp\\appdata\\roaming\\python\\python310\\site-packages (from python-dateutil>=2.8.2->pandas) (1.17.0)\n",
      "Requirement already satisfied: threadpoolctl>=3.1.0 in c:\\users\\hp\\appdata\\local\\programs\\python\\python310\\lib\\site-packages (from scikit-learn>=1.3.1->mlxtend) (3.6.0)\n",
      "Note: you may need to restart the kernel to use updated packages.\n"
     ]
    },
    {
     "name": "stderr",
     "output_type": "stream",
     "text": [
      "\n",
      "[notice] A new release of pip is available: 23.0.1 -> 25.1.1\n",
      "[notice] To update, run: python.exe -m pip install --upgrade pip\n"
     ]
    }
   ],
   "source": [
    "# using pip to install required libraries\n",
    "pip install pandas mlxtend"
   ]
  },
  {
   "cell_type": "code",
   "execution_count": 3,
   "id": "e121a707",
   "metadata": {},
   "outputs": [],
   "source": [
    "import pandas as pd\n",
    "from mlxtend.frequent_patterns import apriori, association_rules\n",
    "from mlxtend.preprocessing import TransactionEncoder"
   ]
  },
  {
   "cell_type": "markdown",
   "id": "854abede",
   "metadata": {},
   "source": [
    "## 2.2 Loading csv"
   ]
  },
  {
   "cell_type": "code",
   "execution_count": 4,
   "id": "ad474679",
   "metadata": {},
   "outputs": [
    {
     "data": {
      "application/vnd.microsoft.datawrangler.viewer.v0+json": {
       "columns": [
        {
         "name": "index",
         "rawType": "int64",
         "type": "integer"
        },
        {
         "name": "Transaction",
         "rawType": "object",
         "type": "string"
        }
       ],
       "ref": "e31f2ebd-a0a7-49c4-bfea-138498ee3d8c",
       "rows": [
        [
         "0",
         "['Toilet Paper', 'Shampoo', 'Carrots', 'Chips', 'Soda']"
        ],
        [
         "1",
         "['Tomatoes', 'Carrots', 'Bananas', 'Bread', 'Cheese', 'Yogurt', 'Coffee']"
        ],
        [
         "2",
         "['Peppers', 'Soda', 'Carrots', 'Toothpaste', 'Milk']"
        ],
        [
         "3",
         "['Water', 'Yogurt', 'Tomatoes', 'Carrots', 'Toilet Paper', 'Fish']"
        ],
        [
         "4",
         "['Eggs', 'Peppers', 'Carrots']"
        ]
       ],
       "shape": {
        "columns": 1,
        "rows": 5
       }
      },
      "text/html": [
       "<div>\n",
       "<style scoped>\n",
       "    .dataframe tbody tr th:only-of-type {\n",
       "        vertical-align: middle;\n",
       "    }\n",
       "\n",
       "    .dataframe tbody tr th {\n",
       "        vertical-align: top;\n",
       "    }\n",
       "\n",
       "    .dataframe thead th {\n",
       "        text-align: right;\n",
       "    }\n",
       "</style>\n",
       "<table border=\"1\" class=\"dataframe\">\n",
       "  <thead>\n",
       "    <tr style=\"text-align: right;\">\n",
       "      <th></th>\n",
       "      <th>Transaction</th>\n",
       "    </tr>\n",
       "  </thead>\n",
       "  <tbody>\n",
       "    <tr>\n",
       "      <th>0</th>\n",
       "      <td>['Toilet Paper', 'Shampoo', 'Carrots', 'Chips'...</td>\n",
       "    </tr>\n",
       "    <tr>\n",
       "      <th>1</th>\n",
       "      <td>['Tomatoes', 'Carrots', 'Bananas', 'Bread', 'C...</td>\n",
       "    </tr>\n",
       "    <tr>\n",
       "      <th>2</th>\n",
       "      <td>['Peppers', 'Soda', 'Carrots', 'Toothpaste', '...</td>\n",
       "    </tr>\n",
       "    <tr>\n",
       "      <th>3</th>\n",
       "      <td>['Water', 'Yogurt', 'Tomatoes', 'Carrots', 'To...</td>\n",
       "    </tr>\n",
       "    <tr>\n",
       "      <th>4</th>\n",
       "      <td>['Eggs', 'Peppers', 'Carrots']</td>\n",
       "    </tr>\n",
       "  </tbody>\n",
       "</table>\n",
       "</div>"
      ],
      "text/plain": [
       "                                         Transaction\n",
       "0  ['Toilet Paper', 'Shampoo', 'Carrots', 'Chips'...\n",
       "1  ['Tomatoes', 'Carrots', 'Bananas', 'Bread', 'C...\n",
       "2  ['Peppers', 'Soda', 'Carrots', 'Toothpaste', '...\n",
       "3  ['Water', 'Yogurt', 'Tomatoes', 'Carrots', 'To...\n",
       "4                     ['Eggs', 'Peppers', 'Carrots']"
      ]
     },
     "execution_count": 4,
     "metadata": {},
     "output_type": "execute_result"
    }
   ],
   "source": [
    "df = pd.read_csv('supermarket_transactions.csv')\n",
    "df.head()"
   ]
  },
  {
   "cell_type": "markdown",
   "id": "1ccf05bb",
   "metadata": {},
   "source": [
    "## 2.3 One-Hot Encode"
   ]
  },
  {
   "cell_type": "code",
   "execution_count": 5,
   "id": "a545b4e6",
   "metadata": {},
   "outputs": [],
   "source": [
    "# Turn the comma‑separated string into a list\n",
    "transactions = df['Transaction'].str.split(',')"
   ]
  },
  {
   "cell_type": "code",
   "execution_count": 6,
   "id": "f64fc076",
   "metadata": {},
   "outputs": [],
   "source": [
    "# One-Hot Encode\n",
    "encoder = TransactionEncoder() # initialize the encoder\n",
    "df_encoded = pd.DataFrame(encoder.fit(transactions).transform(transactions), columns=encoder.columns_)"
   ]
  },
  {
   "cell_type": "markdown",
   "id": "14e122a7",
   "metadata": {},
   "source": [
    "## 2.4 Frequent itemsets"
   ]
  },
  {
   "cell_type": "code",
   "execution_count": 7,
   "id": "4a43d5e3",
   "metadata": {},
   "outputs": [
    {
     "data": {
      "application/vnd.microsoft.datawrangler.viewer.v0+json": {
       "columns": [
        {
         "name": "index",
         "rawType": "int64",
         "type": "integer"
        },
        {
         "name": "support",
         "rawType": "float64",
         "type": "float"
        },
        {
         "name": "itemsets",
         "rawType": "object",
         "type": "unknown"
        }
       ],
       "ref": "ecee12a1-7228-4d40-8e9e-229fbe868644",
       "rows": [
        [
         "30",
         "0.08733333333333333",
         "frozenset({\" 'Water'\"})"
        ],
        [
         "21",
         "0.08566666666666667",
         "frozenset({\" 'Potatoes'\"})"
        ],
        [
         "24",
         "0.084",
         "frozenset({\" 'Soap'\"})"
        ],
        [
         "0",
         "0.08333333333333333",
         "frozenset({\" 'Apples'\"})"
        ],
        [
         "2",
         "0.08233333333333333",
         "frozenset({\" 'Beef'\"})"
        ],
        [
         "28",
         "0.08166666666666667",
         "frozenset({\" 'Tomatoes'\"})"
        ],
        [
         "19",
         "0.081",
         "frozenset({\" 'Pasta'\"})"
        ],
        [
         "27",
         "0.08033333333333334",
         "frozenset({\" 'Toilet Paper'\"})"
        ],
        [
         "1",
         "0.07933333333333334",
         "frozenset({\" 'Bananas'\"})"
        ],
        [
         "22",
         "0.07933333333333334",
         "frozenset({\" 'Rice'\"})"
        ]
       ],
       "shape": {
        "columns": 2,
        "rows": 10
       }
      },
      "text/html": [
       "<div>\n",
       "<style scoped>\n",
       "    .dataframe tbody tr th:only-of-type {\n",
       "        vertical-align: middle;\n",
       "    }\n",
       "\n",
       "    .dataframe tbody tr th {\n",
       "        vertical-align: top;\n",
       "    }\n",
       "\n",
       "    .dataframe thead th {\n",
       "        text-align: right;\n",
       "    }\n",
       "</style>\n",
       "<table border=\"1\" class=\"dataframe\">\n",
       "  <thead>\n",
       "    <tr style=\"text-align: right;\">\n",
       "      <th></th>\n",
       "      <th>support</th>\n",
       "      <th>itemsets</th>\n",
       "    </tr>\n",
       "  </thead>\n",
       "  <tbody>\n",
       "    <tr>\n",
       "      <th>30</th>\n",
       "      <td>0.087333</td>\n",
       "      <td>( 'Water')</td>\n",
       "    </tr>\n",
       "    <tr>\n",
       "      <th>21</th>\n",
       "      <td>0.085667</td>\n",
       "      <td>( 'Potatoes')</td>\n",
       "    </tr>\n",
       "    <tr>\n",
       "      <th>24</th>\n",
       "      <td>0.084000</td>\n",
       "      <td>( 'Soap')</td>\n",
       "    </tr>\n",
       "    <tr>\n",
       "      <th>0</th>\n",
       "      <td>0.083333</td>\n",
       "      <td>( 'Apples')</td>\n",
       "    </tr>\n",
       "    <tr>\n",
       "      <th>2</th>\n",
       "      <td>0.082333</td>\n",
       "      <td>( 'Beef')</td>\n",
       "    </tr>\n",
       "    <tr>\n",
       "      <th>28</th>\n",
       "      <td>0.081667</td>\n",
       "      <td>( 'Tomatoes')</td>\n",
       "    </tr>\n",
       "    <tr>\n",
       "      <th>19</th>\n",
       "      <td>0.081000</td>\n",
       "      <td>( 'Pasta')</td>\n",
       "    </tr>\n",
       "    <tr>\n",
       "      <th>27</th>\n",
       "      <td>0.080333</td>\n",
       "      <td>( 'Toilet Paper')</td>\n",
       "    </tr>\n",
       "    <tr>\n",
       "      <th>1</th>\n",
       "      <td>0.079333</td>\n",
       "      <td>( 'Bananas')</td>\n",
       "    </tr>\n",
       "    <tr>\n",
       "      <th>22</th>\n",
       "      <td>0.079333</td>\n",
       "      <td>( 'Rice')</td>\n",
       "    </tr>\n",
       "  </tbody>\n",
       "</table>\n",
       "</div>"
      ],
      "text/plain": [
       "     support           itemsets\n",
       "30  0.087333         ( 'Water')\n",
       "21  0.085667      ( 'Potatoes')\n",
       "24  0.084000          ( 'Soap')\n",
       "0   0.083333        ( 'Apples')\n",
       "2   0.082333          ( 'Beef')\n",
       "28  0.081667      ( 'Tomatoes')\n",
       "19  0.081000         ( 'Pasta')\n",
       "27  0.080333  ( 'Toilet Paper')\n",
       "1   0.079333       ( 'Bananas')\n",
       "22  0.079333          ( 'Rice')"
      ]
     },
     "execution_count": 7,
     "metadata": {},
     "output_type": "execute_result"
    }
   ],
   "source": [
    "# Mine for frequent itemsets with a minimum support threshold\n",
    "#  - min_support=0.05 means “itemsets appearing in at least 5% of transactions”\n",
    "#  - use_colnames=True returns item names instead of column indices\n",
    "frequent_itemsets = apriori(df_encoded, min_support=0.05, use_colnames=True)\n",
    "frequent_itemsets.sort_values('support', ascending=False).head(10)\n"
   ]
  }
 ],
 "metadata": {
  "kernelspec": {
   "display_name": "Python 3",
   "language": "python",
   "name": "python3"
  },
  "language_info": {
   "codemirror_mode": {
    "name": "ipython",
    "version": 3
   },
   "file_extension": ".py",
   "mimetype": "text/x-python",
   "name": "python",
   "nbconvert_exporter": "python",
   "pygments_lexer": "ipython3",
   "version": "3.10.11"
  }
 },
 "nbformat": 4,
 "nbformat_minor": 5
}

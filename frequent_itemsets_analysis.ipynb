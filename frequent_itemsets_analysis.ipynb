{
 "cells": [
  {
   "cell_type": "code",
   "execution_count": 4,
   "id": "2ceb28a2-0029-4cc1-97cc-4ea7fdd16957",
   "metadata": {},
   "outputs": [
    {
     "name": "stdout",
     "output_type": "stream",
     "text": [
      "✅ supermarket_transactions.csv created with 3000 transactions.\n"
     ]
    }
   ],
   "source": [
    "# 📘 Frequent Itemsets Analysis - Group 10\n",
    "# Kevin Korir - Data Simulation Task\n",
    "\n",
    "# %% [markdown]\n",
    "# ## 🛍️ PART 1: Simulate Supermarket Transactions\n",
    "# [Student: Kevin] This section generates 3000 fake supermarket transactions.\n",
    "# Each transaction contains 2–7 items randomly selected from a pool of 30 items.\n",
    "# The output is saved to `supermarket_transactions.csv`.\n",
    "\n",
    "# %%\n",
    "# [Student: Kevin] Import required libraries\n",
    "import random\n",
    "import pandas as pd\n",
    "\n",
    "# [Student: Kevin] Define a list of 30+ unique supermarket items\n",
    "items = [\n",
    "    'Milk', 'Bread', 'Butter', 'Cheese', 'Eggs', 'Juice', 'Apples', 'Bananas',\n",
    "    'Chicken', 'Beef', 'Fish', 'Rice', 'Pasta', 'Tomatoes', 'Onions', 'Potatoes',\n",
    "    'Carrots', 'Peppers', 'Yogurt', 'Cereal', 'Chips', 'Soda', 'Cookies', 'Ice Cream',\n",
    "    'Toilet Paper', 'Soap', 'Shampoo', 'Toothpaste', 'Detergent', 'Coffee', 'Tea', 'Water'\n",
    "]\n",
    "\n",
    "# [Student: Kevin] Generate 3000 transactions\n",
    "transactions = []\n",
    "for _ in range(3000):\n",
    "    transaction = random.sample(items, k=random.randint(2, 7))  # 2 to 7 random items\n",
    "    transactions.append(transaction)\n",
    "\n",
    "# [Student: Kevin] Convert list of transactions into a DataFrame for inspection\n",
    "transaction_df = pd.DataFrame({'Transaction': transactions})\n",
    "transaction_df.head()\n",
    "\n",
    "# [Student: Kevin] Save transactions to CSV (as comma-separated items per row)\n",
    "transaction_df.to_csv(\"supermarket_transactions.csv\", index=False)\n",
    "print(\"✅ supermarket_transactions.csv created with 3000 transactions.\")\n",
    "\n",
    "# %% [markdown]\n",
    "# ## 🔢 PART 2 and Beyond (To be implemented by other group members)\n",
    "# [Student: Margret] One-hot encode transactions for Apriori\n",
    "# [Student: Geoffrey] Generate frequent itemsets using apriori()\n",
    "# [Student: Bricole] Identify closed frequent itemsets\n",
    "# [Student: Bricole] Identify maximal frequent itemsets\n",
    "# Each member must add inline comments to their section of code\n",
    "# All output files will be saved in .csv format as required\n"
   ]
  },
  {
   "cell_type": "code",
   "execution_count": null,
   "id": "80c1a846-0c2e-4bb4-839f-7a71f3ee8a1f",
   "metadata": {},
   "outputs": [],
   "source": []
  }
 ],
 "metadata": {
  "kernelspec": {
   "display_name": "Python 3 (ipykernel)",
   "language": "python",
   "name": "python3"
  },
  "language_info": {
   "codemirror_mode": {
    "name": "ipython",
    "version": 3
   },
   "file_extension": ".py",
   "mimetype": "text/x-python",
   "name": "python",
   "nbconvert_exporter": "python",
   "pygments_lexer": "ipython3",
   "version": "3.11.5"
  }
 },
 "nbformat": 4,
 "nbformat_minor": 5
}
